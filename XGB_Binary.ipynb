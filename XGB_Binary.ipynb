{
 "cells": [
  {
   "cell_type": "code",
   "execution_count": 49,
   "metadata": {
    "collapsed": false
   },
   "outputs": [],
   "source": [
    "#Import libraries:\n",
    "import pandas as pd\n",
    "import numpy as np\n",
    "import xgboost as xgb\n",
    "from xgboost.sklearn import XGBClassifier\n",
    "from sklearn import cross_validation, metrics   #Additional scklearn functions\n",
    "from sklearn.grid_search import GridSearchCV   #Perforing grid search\n",
    "import matplotlib.pylab as plt\n",
    "%matplotlib inline\n",
    "from matplotlib.pylab import rcParams\n",
    "\n",
    "# Loading dataset\n",
    "train = pd.read_csv(\"LargeTrain.csv\")\n",
    "train['Class'] = [ i - 1 for i in train['Class']]\n",
    "target = 'Class'\n",
    "predictors = [x for x in train.columns if x not in target]\n",
    "\n"
   ]
  },
  {
   "cell_type": "code",
   "execution_count": 52,
   "metadata": {
    "collapsed": false
   },
   "outputs": [
    {
     "data": {
      "text/plain": [
       "([mean: 0.99660, std: 0.00122, params: {'max_depth': 3, 'min_child_weight': 2},\n",
       "  mean: 0.99650, std: 0.00138, params: {'max_depth': 3, 'min_child_weight': 4},\n",
       "  mean: 0.99614, std: 0.00138, params: {'max_depth': 3, 'min_child_weight': 6},\n",
       "  mean: 0.99595, std: 0.00135, params: {'max_depth': 3, 'min_child_weight': 8},\n",
       "  mean: 0.99669, std: 0.00102, params: {'max_depth': 5, 'min_child_weight': 2},\n",
       "  mean: 0.99632, std: 0.00123, params: {'max_depth': 5, 'min_child_weight': 4},\n",
       "  mean: 0.99650, std: 0.00118, params: {'max_depth': 5, 'min_child_weight': 6},\n",
       "  mean: 0.99623, std: 0.00102, params: {'max_depth': 5, 'min_child_weight': 8},\n",
       "  mean: 0.99669, std: 0.00079, params: {'max_depth': 7, 'min_child_weight': 2},\n",
       "  mean: 0.99614, std: 0.00138, params: {'max_depth': 7, 'min_child_weight': 4},\n",
       "  mean: 0.99632, std: 0.00105, params: {'max_depth': 7, 'min_child_weight': 6},\n",
       "  mean: 0.99614, std: 0.00103, params: {'max_depth': 7, 'min_child_weight': 8},\n",
       "  mean: 0.99669, std: 0.00102, params: {'max_depth': 9, 'min_child_weight': 2},\n",
       "  mean: 0.99614, std: 0.00138, params: {'max_depth': 9, 'min_child_weight': 4},\n",
       "  mean: 0.99641, std: 0.00106, params: {'max_depth': 9, 'min_child_weight': 6},\n",
       "  mean: 0.99623, std: 0.00102, params: {'max_depth': 9, 'min_child_weight': 8}],\n",
       " {'max_depth': 7, 'min_child_weight': 2},\n",
       " 0.996687787710143)"
      ]
     },
     "execution_count": 52,
     "metadata": {},
     "output_type": "execute_result"
    }
   ],
   "source": [
    "\n",
    "param_test1 = { \n",
    "    'max_depth': [3, 5, 7, 9], \n",
    "    'min_child_weight':[2, 4, 6, 8]\n",
    "}\n",
    "gsearch2 = GridSearchCV(estimator = XGBClassifier( learning_rate=0.1, n_estimators=100, max_depth=4,\n",
    " min_child_weight=2, gamma=0, subsample=0.8, colsample_bytree=0.8,\n",
    " objective= 'binary:logistic', nthread=4, scale_pos_weight=1,seed=27), \n",
    " param_grid = param_test1, scoring='accuracy',n_jobs=4,iid=False, cv=5)\n",
    "gsearch2.fit(train[predictors],train[target])\n",
    "gsearch2.grid_scores_, gsearch2.best_params_, gsearch2.best_score_"
   ]
  },
  {
   "cell_type": "code",
   "execution_count": null,
   "metadata": {
    "collapsed": false
   },
   "outputs": [],
   "source": []
  }
 ],
 "metadata": {
  "kernelspec": {
   "display_name": "Python 3",
   "language": "python",
   "name": "python3"
  },
  "language_info": {
   "codemirror_mode": {
    "name": "ipython",
    "version": 3
   },
   "file_extension": ".py",
   "mimetype": "text/x-python",
   "name": "python",
   "nbconvert_exporter": "python",
   "pygments_lexer": "ipython3",
   "version": "3.6.0"
  }
 },
 "nbformat": 4,
 "nbformat_minor": 2
}
