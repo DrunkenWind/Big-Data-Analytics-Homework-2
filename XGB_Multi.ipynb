{
 "cells": [
  {
   "cell_type": "code",
   "execution_count": 2,
   "metadata": {
    "collapsed": false
   },
   "outputs": [
    {
     "name": "stderr",
     "output_type": "stream",
     "text": [
      "/home/frank/anaconda3/lib/python3.6/site-packages/sklearn/cross_validation.py:44: DeprecationWarning: This module was deprecated in version 0.18 in favor of the model_selection module into which all the refactored classes and functions are moved. Also note that the interface of the new CV iterators are different from that of this module. This module will be removed in 0.20.\n",
      "  \"This module will be removed in 0.20.\", DeprecationWarning)\n",
      "/home/frank/anaconda3/lib/python3.6/site-packages/sklearn/grid_search.py:43: DeprecationWarning: This module was deprecated in version 0.18 in favor of the model_selection module into which all the refactored classes and functions are moved. This module will be removed in 0.20.\n",
      "  DeprecationWarning)\n"
     ]
    }
   ],
   "source": [
    "#Import libraries:\n",
    "import pandas as pd\n",
    "import numpy as np\n",
    "import xgboost as xgb\n",
    "from xgboost.sklearn import XGBClassifier\n",
    "from sklearn import cross_validation, metrics   #Additional scklearn functions\n",
    "from sklearn.grid_search import GridSearchCV   #Perforing grid search\n",
    "import matplotlib.pylab as plt\n",
    "%matplotlib inline\n",
    "from matplotlib.pylab import rcParams\n",
    "\n",
    "# Loading dataset\n",
    "train = pd.read_csv(\"LargeTrain.csv\")\n",
    "train['Class'] = [ i - 1 for i in train['Class']]\n",
    "target = 'Class'\n",
    "predictors = [x for x in train.columns if x not in target]\n",
    "\n"
   ]
  },
  {
   "cell_type": "code",
   "execution_count": 53,
   "metadata": {
    "collapsed": false
   },
   "outputs": [
    {
     "data": {
      "text/plain": [
       "([mean: 0.99660, std: 0.00122, params: {'max_depth': 3, 'min_child_weight': 2},\n",
       "  mean: 0.99650, std: 0.00138, params: {'max_depth': 3, 'min_child_weight': 4},\n",
       "  mean: 0.99614, std: 0.00138, params: {'max_depth': 3, 'min_child_weight': 6},\n",
       "  mean: 0.99595, std: 0.00135, params: {'max_depth': 3, 'min_child_weight': 8},\n",
       "  mean: 0.99669, std: 0.00102, params: {'max_depth': 5, 'min_child_weight': 2},\n",
       "  mean: 0.99632, std: 0.00123, params: {'max_depth': 5, 'min_child_weight': 4},\n",
       "  mean: 0.99650, std: 0.00118, params: {'max_depth': 5, 'min_child_weight': 6},\n",
       "  mean: 0.99623, std: 0.00102, params: {'max_depth': 5, 'min_child_weight': 8},\n",
       "  mean: 0.99669, std: 0.00079, params: {'max_depth': 7, 'min_child_weight': 2},\n",
       "  mean: 0.99614, std: 0.00138, params: {'max_depth': 7, 'min_child_weight': 4},\n",
       "  mean: 0.99632, std: 0.00105, params: {'max_depth': 7, 'min_child_weight': 6},\n",
       "  mean: 0.99614, std: 0.00103, params: {'max_depth': 7, 'min_child_weight': 8},\n",
       "  mean: 0.99669, std: 0.00102, params: {'max_depth': 9, 'min_child_weight': 2},\n",
       "  mean: 0.99614, std: 0.00138, params: {'max_depth': 9, 'min_child_weight': 4},\n",
       "  mean: 0.99641, std: 0.00106, params: {'max_depth': 9, 'min_child_weight': 6},\n",
       "  mean: 0.99623, std: 0.00102, params: {'max_depth': 9, 'min_child_weight': 8}],\n",
       " {'max_depth': 7, 'min_child_weight': 2},\n",
       " 0.996687787710143)"
      ]
     },
     "execution_count": 53,
     "metadata": {},
     "output_type": "execute_result"
    }
   ],
   "source": [
    "\n",
    "param_test1 = { \n",
    "    'max_depth': [3, 5, 7, 9], \n",
    "    'min_child_weight':[2, 4, 6, 8]\n",
    "}\n",
    "gsearch2 = GridSearchCV(estimator = XGBClassifier( learning_rate=0.1, n_estimators=100, max_depth=4,\n",
    " min_child_weight=2, gamma=0, subsample=0.8, colsample_bytree=0.8,\n",
    " objective= 'multi:softprob', nthread=4, scale_pos_weight=1,seed=27), \n",
    " param_grid = param_test1, scoring='accuracy',n_jobs=4,iid=False, cv=5)\n",
    "gsearch2.fit(train[predictors],train[target])\n",
    "gsearch2.grid_scores_, gsearch2.best_params_, gsearch2.best_score_"
   ]
  },
  {
   "cell_type": "code",
   "execution_count": 3,
   "metadata": {
    "collapsed": false
   },
   "outputs": [
    {
     "data": {
      "text/plain": [
       "([mean: 0.99632, std: 0.00123, params: {'gamma': 0.0},\n",
       "  mean: 0.99614, std: 0.00147, params: {'gamma': 0.1},\n",
       "  mean: 0.99623, std: 0.00149, params: {'gamma': 0.2},\n",
       "  mean: 0.99632, std: 0.00133, params: {'gamma': 0.3},\n",
       "  mean: 0.99623, std: 0.00149, params: {'gamma': 0.4}],\n",
       " {'gamma': 0.0},\n",
       " 0.9963199713851468)"
      ]
     },
     "execution_count": 3,
     "metadata": {},
     "output_type": "execute_result"
    }
   ],
   "source": [
    "param_test3 = {\n",
    " 'gamma':[i/10.0 for i in range(0,5)]\n",
    "}\n",
    "gsearch3 = GridSearchCV(estimator = XGBClassifier( learning_rate =0.1, n_estimators=100, max_depth=4,\n",
    " min_child_weight=6, gamma=0, subsample=0.8, colsample_bytree=0.8,\n",
    " objective= 'multi:softprob', nthread=4, scale_pos_weight=1,seed=27), \n",
    " param_grid = param_test3, scoring='accuracy',n_jobs=4,iid=False, cv=5)\n",
    "gsearch3.fit(train[predictors],train[target])\n",
    "gsearch3.grid_scores_, gsearch3.best_params_, gsearch3.best_score_"
   ]
  },
  {
   "cell_type": "code",
   "execution_count": null,
   "metadata": {
    "collapsed": true
   },
   "outputs": [],
   "source": []
  }
 ],
 "metadata": {
  "kernelspec": {
   "display_name": "Python 3",
   "language": "python",
   "name": "python3"
  },
  "language_info": {
   "codemirror_mode": {
    "name": "ipython",
    "version": 3
   },
   "file_extension": ".py",
   "mimetype": "text/x-python",
   "name": "python",
   "nbconvert_exporter": "python",
   "pygments_lexer": "ipython3",
   "version": "3.6.0"
  }
 },
 "nbformat": 4,
 "nbformat_minor": 2
}
