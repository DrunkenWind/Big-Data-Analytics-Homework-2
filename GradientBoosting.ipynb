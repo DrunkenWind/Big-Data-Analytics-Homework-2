{
 "cells": [
  {
   "cell_type": "code",
   "execution_count": 55,
   "metadata": {
    "collapsed": false
   },
   "outputs": [],
   "source": [
    "#Import libraries:\n",
    "import pandas as pd\n",
    "import numpy as np\n",
    "from sklearn.ensemble import GradientBoostingClassifier  #GBM algorithm\n",
    "from sklearn import cross_validation, metrics   #Additional scklearn functions\n",
    "from sklearn.grid_search import GridSearchCV   #Perforing grid search\n",
    "\n",
    "import matplotlib.pylab as plt\n",
    "%matplotlib inline\n",
    "from matplotlib.pylab import rcParams\n",
    "\n",
    "# Loading dataset\n",
    "train = pd.read_csv(\"LargeTrain.csv\")\n",
    "train['Class'] = [ i - 1 for i in train['Class']]\n",
    "target = 'Class'\n",
    "predictors = [x for x in train.columns if x not in target]\n",
    "\n"
   ]
  },
  {
   "cell_type": "code",
   "execution_count": 57,
   "metadata": {
    "collapsed": false
   },
   "outputs": [
    {
     "data": {
      "text/plain": [
       "([mean: 0.99319, std: 0.00183, params: {'max_depth': 3, 'min_samples_split': 100},\n",
       "  mean: 0.99393, std: 0.00163, params: {'max_depth': 3, 'min_samples_split': 200},\n",
       "  mean: 0.99347, std: 0.00176, params: {'max_depth': 3, 'min_samples_split': 300},\n",
       "  mean: 0.99264, std: 0.00212, params: {'max_depth': 3, 'min_samples_split': 400},\n",
       "  mean: 0.99540, std: 0.00097, params: {'max_depth': 5, 'min_samples_split': 100},\n",
       "  mean: 0.99466, std: 0.00075, params: {'max_depth': 5, 'min_samples_split': 200},\n",
       "  mean: 0.99466, std: 0.00085, params: {'max_depth': 5, 'min_samples_split': 300},\n",
       "  mean: 0.99457, std: 0.00098, params: {'max_depth': 5, 'min_samples_split': 400},\n",
       "  mean: 0.99577, std: 0.00084, params: {'max_depth': 7, 'min_samples_split': 100},\n",
       "  mean: 0.99512, std: 0.00069, params: {'max_depth': 7, 'min_samples_split': 200},\n",
       "  mean: 0.99485, std: 0.00094, params: {'max_depth': 7, 'min_samples_split': 300},\n",
       "  mean: 0.99485, std: 0.00067, params: {'max_depth': 7, 'min_samples_split': 400},\n",
       "  mean: 0.99540, std: 0.00065, params: {'max_depth': 9, 'min_samples_split': 100},\n",
       "  mean: 0.99540, std: 0.00065, params: {'max_depth': 9, 'min_samples_split': 200},\n",
       "  mean: 0.99476, std: 0.00068, params: {'max_depth': 9, 'min_samples_split': 300},\n",
       "  mean: 0.99448, std: 0.00087, params: {'max_depth': 9, 'min_samples_split': 400}],\n",
       " {'max_depth': 7, 'min_samples_split': 100},\n",
       " 0.9957670607041731)"
      ]
     },
     "execution_count": 57,
     "metadata": {},
     "output_type": "execute_result"
    }
   ],
   "source": [
    "\n",
    "param_test2 = {'max_depth':[3, 5, 7, 9], 'min_samples_split':[100, 200, 300, 400]}\n",
    "gsearch2 = GridSearchCV(estimator = GradientBoostingClassifier(learning_rate=0.1, n_estimators=60, max_features='sqrt', subsample=0.8, random_state=10), \n",
    "param_grid = param_test2, scoring='accuracy',n_jobs=4,iid=False, cv=5)\n",
    "gsearch2.fit(train[predictors],train[target])\n",
    "gsearch2.grid_scores_, gsearch2.best_params_, gsearch2.best_score_"
   ]
  },
  {
   "cell_type": "code",
   "execution_count": null,
   "metadata": {
    "collapsed": false
   },
   "outputs": [],
   "source": []
  }
 ],
 "metadata": {
  "kernelspec": {
   "display_name": "Python 3",
   "language": "python",
   "name": "python3"
  },
  "language_info": {
   "codemirror_mode": {
    "name": "ipython",
    "version": 3
   },
   "file_extension": ".py",
   "mimetype": "text/x-python",
   "name": "python",
   "nbconvert_exporter": "python",
   "pygments_lexer": "ipython3",
   "version": "3.6.0"
  }
 },
 "nbformat": 4,
 "nbformat_minor": 2
}
